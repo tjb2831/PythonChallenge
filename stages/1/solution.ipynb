{
 "metadata": {
  "name": "",
  "signature": "sha256:3f2f29eb822d2dd39c0d93b46072b657b28e7d22acfeb44316073a37ab9562df"
 },
 "nbformat": 3,
 "nbformat_minor": 0,
 "worksheets": [
  {
   "cells": [
    {
     "cell_type": "code",
     "collapsed": false,
     "input": [
      "# Create a simple function to do the circular shift on a letter of the alphabet\n",
      "def alphaShift(asciiCode, shift):\n",
      "    \"\"\"Performs a circular shift of the lowercase alphabet\n",
      "    \n",
      "    Note: This assumes the character is given as an ASCII character point,\n",
      "    ie., ord(char)\n",
      "    \"\"\"\n",
      "    min = ord('a')\n",
      "    max = ord('z') + 1 - min # Offset by 1 so 'z' is included\n",
      "    normalized = asciiCode - min\n",
      "    return chr( ((normalized + shift) % max) + min )"
     ],
     "language": "python",
     "metadata": {},
     "outputs": [],
     "prompt_number": 1
    },
    {
     "cell_type": "code",
     "collapsed": false,
     "input": [
      "# Create our before -> after translation strings\n",
      "import string\n",
      "encrypted = string.ascii_lowercase\n",
      "shifted = ''.join( [alphaShift(c, 2) for c in range(ord('a'), ord('z') + 1)] )\n",
      "\n",
      "# alternatively, we could create the shifted alphabet with the following command.\n",
      "# However, this approach isn't reusable like the function is and is intrinsic to a 2 position rotation\n",
      "shifted_alternate = ''.join( [chr(c) for c in range(ord('a') + 2, ord('z' + 1))]) + ''.join( ['a', 'b'] )"
     ],
     "language": "python",
     "metadata": {},
     "outputs": [],
     "prompt_number": 2
    },
    {
     "cell_type": "code",
     "collapsed": false,
     "input": [
      "# Create our translation table\n",
      "transTable = str.maketrans(encrypted, shifted)"
     ],
     "language": "python",
     "metadata": {},
     "outputs": [],
     "prompt_number": 4
    },
    {
     "cell_type": "code",
     "collapsed": false,
     "input": [
      "# Apply the translation to the cipher text from the web page.\n",
      "# Multiple lines are used for sanity due to length of the string. It would work fine on one line as well.\n",
      "# Note: Double quotes are needed!\n",
      "ciphertext = \"g fmnc wms bgblr rpylqjyrc gr zw fylb. \"\\\n",
      "\"rfyrq ufyr amknsrcpq ypc dmp. \"\\\n",
      "\"bmgle gr gl zw fylb gq glcddgagclr ylb rfyr'q ufw rfgq rcvr gq qm jmle. \"\\\n",
      "\"sqgle qrpgle.kyicrpylq() gq pcamkkclbcb. lmu ynnjw ml rfc spj.\"\n",
      "\n",
      "cleartext = ciphertext.translate(transTable)\n",
      "print(cleartext)"
     ],
     "language": "python",
     "metadata": {},
     "outputs": [
      {
       "output_type": "stream",
       "stream": "stdout",
       "text": [
        "i hope you didnt translate it by hand. thats what computers are for. doing it in by hand is inefficient and that's why this text is so long. using string.maketrans() is recommended. now apply on the url.\n"
       ]
      }
     ],
     "prompt_number": 5
    },
    {
     "cell_type": "code",
     "collapsed": false,
     "input": [
      "# Apply the mapping on the URL because the computer told us to\n",
      "print(\"map\".translate(transTable))"
     ],
     "language": "python",
     "metadata": {},
     "outputs": [
      {
       "output_type": "stream",
       "stream": "stdout",
       "text": [
        "ocr\n"
       ]
      }
     ],
     "prompt_number": 6
    },
    {
     "cell_type": "code",
     "collapsed": false,
     "input": [],
     "language": "python",
     "metadata": {},
     "outputs": []
    }
   ],
   "metadata": {}
  }
 ]
}