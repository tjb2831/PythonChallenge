{
 "metadata": {
  "name": "",
  "signature": "sha256:a6ce37f137aa0c42b097dbf7fcde481204e699c436700fed4962a9d37ea997ba"
 },
 "nbformat": 3,
 "nbformat_minor": 0,
 "worksheets": [
  {
   "cells": [
    {
     "cell_type": "code",
     "collapsed": false,
     "input": [
      "# Get at the source code in the same manner as in the last stage\n",
      "import pycurl\n",
      "\n",
      "sourceList = []\n",
      "curlObj = pycurl.Curl()\n",
      "curlObj.setopt(pycurl.URL, \"http://www.pythonchallenge.com/pc/def/equality.html\")\n",
      "curlObj.setopt(pycurl.WRITEFUNCTION, lambda x: sourceList.append(x.decode(encoding=\"UTF-8\")))\n",
      "curlObj.perform()"
     ],
     "language": "python",
     "metadata": {},
     "outputs": [],
     "prompt_number": 1
    },
    {
     "cell_type": "code",
     "collapsed": false,
     "input": [
      "# Process it in the same way too\n",
      "import functools, operator\n",
      "\n",
      "sourceCode = functools.reduce(operator.concat, sourceList)"
     ],
     "language": "python",
     "metadata": {},
     "outputs": [],
     "prompt_number": 2
    },
    {
     "cell_type": "code",
     "collapsed": false,
     "input": [
      "# And isolate the comment block in the same way too.\n",
      "# This time match 0 is the magic match\n",
      "import re\n",
      "\n",
      "matches = re.findall(\"<!--(.*?)-->\", sourceCode, re.DOTALL)\n",
      "searchSpace = matches[0].translate({ord('\\n'):None})"
     ],
     "language": "python",
     "metadata": {},
     "outputs": [],
     "prompt_number": 3
    },
    {
     "cell_type": "code",
     "collapsed": false,
     "input": [
      "# Search for a lowercase letter with exactly 3 uppercase\n",
      "# letters on both sides. The [^A-Z] on each end are needed\n",
      "# in order to prevent a match on more than 3 uppercase letters\n",
      "# ex., AAAAbCCC would match without them\n",
      "soln = re.findall(\"[^A-Z][A-Z]{3}([a-z])[A-Z]{3}[^A-Z]\", searchSpace)\n",
      "print(''.join(soln))"
     ],
     "language": "python",
     "metadata": {},
     "outputs": [
      {
       "output_type": "stream",
       "stream": "stdout",
       "text": [
        "linkedlist\n"
       ]
      }
     ],
     "prompt_number": 4
    },
    {
     "cell_type": "code",
     "collapsed": false,
     "input": [],
     "language": "python",
     "metadata": {},
     "outputs": []
    }
   ],
   "metadata": {}
  }
 ]
}