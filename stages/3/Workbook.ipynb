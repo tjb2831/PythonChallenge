{
 "metadata": {
  "name": "",
  "signature": "sha256:83d926b73ed73d0679f2650e4d1dedcdc1d620ebac9baeb25d71e08995485756"
 },
 "nbformat": 3,
 "nbformat_minor": 0,
 "worksheets": [
  {
   "cells": [
    {
     "cell_type": "code",
     "collapsed": false,
     "input": [
      "import pycurl\n",
      "\n",
      "sourceList = []\n",
      "curlObj = pycurl.Curl()\n",
      "curlObj.setopt(pycurl.URL, \"http://www.pythonchallenge.com/pc/def/equality.html\")\n",
      "curlObj.setopt(pycurl.WRITEFUNCTION, lambda x: sourceList.append(x.decode(encoding=\"UTF-8\")))\n",
      "curlObj.perform()"
     ],
     "language": "python",
     "metadata": {},
     "outputs": [],
     "prompt_number": 1
    },
    {
     "cell_type": "code",
     "collapsed": false,
     "input": [
      "import functools, operator\n",
      "\n",
      "sourceCode = functools.reduce(operator.concat, sourceList)"
     ],
     "language": "python",
     "metadata": {},
     "outputs": [],
     "prompt_number": 2
    },
    {
     "cell_type": "code",
     "collapsed": false,
     "input": [
      "import re\n",
      "\n",
      "matches = re.findall(\"<!--(.*?)-->\", sourceCode, re.DOTALL)"
     ],
     "language": "python",
     "metadata": {},
     "outputs": [],
     "prompt_number": 3
    },
    {
     "cell_type": "code",
     "collapsed": false,
     "input": [
      "len(matches)"
     ],
     "language": "python",
     "metadata": {},
     "outputs": [
      {
       "metadata": {},
       "output_type": "pyout",
       "prompt_number": 7,
       "text": [
        "1"
       ]
      }
     ],
     "prompt_number": 7
    },
    {
     "cell_type": "code",
     "collapsed": false,
     "input": [
      "searchSpace = matches[0].translate({ord(\"\\n\"):None})"
     ],
     "language": "python",
     "metadata": {},
     "outputs": [],
     "prompt_number": 4
    },
    {
     "cell_type": "code",
     "collapsed": false,
     "input": [
      "soln = [x.group(1) for x in re.finditer(\"[^A-Z][A-Z]{3}([a-z])[A-Z]{3}[^A-Z]\", searchSpace)]"
     ],
     "language": "python",
     "metadata": {},
     "outputs": [],
     "prompt_number": 23
    },
    {
     "cell_type": "code",
     "collapsed": false,
     "input": [
      "soln"
     ],
     "language": "python",
     "metadata": {},
     "outputs": [
      {
       "metadata": {},
       "output_type": "pyout",
       "prompt_number": 24,
       "text": [
        "['l', 'i', 'n', 'k', 'e', 'd', 'l', 'i', 's', 't']"
       ]
      }
     ],
     "prompt_number": 24
    },
    {
     "cell_type": "code",
     "collapsed": false,
     "input": [
      "soln2 = re.findall(\"[^A-Z][A-Z]{3}([a-z])[A-Z]{3}[^A-Z]\", searchSpace)"
     ],
     "language": "python",
     "metadata": {},
     "outputs": [],
     "prompt_number": 8
    },
    {
     "cell_type": "code",
     "collapsed": false,
     "input": [
      "soln2"
     ],
     "language": "python",
     "metadata": {},
     "outputs": [
      {
       "metadata": {},
       "output_type": "pyout",
       "prompt_number": 9,
       "text": [
        "['l', 'i', 'n', 'k', 'e', 'd', 'l', 'i', 's', 't']"
       ]
      }
     ],
     "prompt_number": 9
    },
    {
     "cell_type": "code",
     "collapsed": false,
     "input": [],
     "language": "python",
     "metadata": {},
     "outputs": []
    }
   ],
   "metadata": {}
  }
 ]
}