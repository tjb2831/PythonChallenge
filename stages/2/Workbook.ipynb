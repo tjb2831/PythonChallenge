{
 "metadata": {
  "name": "",
  "signature": "sha256:6593ce0cbb726996e43142104ed57ded1c1a988d4ba552b259cb81288c4c4332"
 },
 "nbformat": 3,
 "nbformat_minor": 0,
 "worksheets": [
  {
   "cells": [
    {
     "cell_type": "code",
     "collapsed": false,
     "input": [
      "import pycurl\n",
      "import io"
     ],
     "language": "python",
     "metadata": {},
     "outputs": [],
     "prompt_number": 1
    },
    {
     "cell_type": "code",
     "collapsed": false,
     "input": [
      "buf = []"
     ],
     "language": "python",
     "metadata": {},
     "outputs": [],
     "prompt_number": 46
    },
    {
     "cell_type": "code",
     "collapsed": false,
     "input": [
      "curlObj = pycurl.Curl()\n",
      "curlObj.setopt(pycurl.URL, \"http://www.pythonchallenge.com/pc/def/ocr.html\")\n",
      "curlObj.setopt(pycurl.WRITEFUNCTION, lambda data: buf.append(data.decode(encoding=\"UTF-8\")))"
     ],
     "language": "python",
     "metadata": {},
     "outputs": [],
     "prompt_number": 47
    },
    {
     "cell_type": "code",
     "collapsed": false,
     "input": [
      "curlObj.perform()"
     ],
     "language": "python",
     "metadata": {},
     "outputs": [],
     "prompt_number": 48
    },
    {
     "cell_type": "code",
     "collapsed": false,
     "input": [
      "#print(buffer)"
     ],
     "language": "python",
     "metadata": {},
     "outputs": [],
     "prompt_number": 44
    },
    {
     "cell_type": "code",
     "collapsed": false,
     "input": [],
     "language": "python",
     "metadata": {},
     "outputs": []
    },
    {
     "cell_type": "code",
     "collapsed": false,
     "input": [
      "print(buffer[0])"
     ],
     "language": "python",
     "metadata": {},
     "outputs": [
      {
       "output_type": "stream",
       "stream": "stdout",
       "text": [
        "b'<html>\\n<head>\\n  <title>ocr</title>\\n  <link rel=\"stylesheet\" type=\"text/css\" href=\"../style.css\">\\n</head>\\n<body>\\n<center><img src=\"ocr.jpg\">\\n<br><font color=\"#c03000\">\\nrecognize the characters. maybe they are in the book, <br>but MAYBE they \\nare in the page source.</center>\\n\\n<br>\\n<br>\\n<br>\\n\\n<font size=\"-1\" color=\"gold\">\\nGeneral tips:\\n<li>Use the hints. They are helpful, most of the times.</li>\\n<li>Investigate the data given to you.</li>\\n<li>Avoid looking for spoilers.</li>\\n<br>\\nForums: <a href=\"http://www.pythonchallenge.com/forums\"/>Python Challenge Forums</a>, \\nread before you post.\\n<br>\\nIRC: irc.freenode.net #pythonchallenge\\n<br><br>\\nTo see the solutions to the previous level, replace pc with pcc, i.e. go \\nto: http://www.pythonchallenge.com/pcc/def/ocr.html\\n\\n</body>\\n</html>\\n\\n<!--\\nfind rare characters in the mess below:\\n-->\\n\\n<!--\\n%%$@_$^__#)^)&!_+]!*@&^}@[@%]()%+$&[(_@%+%$*^@$^!+]!&_#)_*}{}}!}_]$[%}@[{_@#_^{*\\n@##&{#&{&)*%(]{{([*}@[@&]+!!*{)!}{%+{))])[!^})+)$]#{*+^((@^@}$[**$&^{$!@#$%)!@(&\\n+^!{%_$&@^!}$_${)$_#)!({@!)(^}!*^&!$%_&&}&_#&@{)]{+)%*{&*%*&@%$+]!*__(#!*){%&@++\\n!_)^$&&%#+)}!@!)&^}**#!_$([$!$}#*^}$+&#[{*{}{((#$]{[$[$$()_#}!@}^@_&%^*!){*^^_$^\\n]@}#%[%!^[^_})+@&}{@*!(@$%$^)}[_!}(*}#}#_'\n"
       ]
      }
     ],
     "prompt_number": 19
    },
    {
     "cell_type": "code",
     "collapsed": false,
     "input": [
      "type(buffer[0])"
     ],
     "language": "python",
     "metadata": {},
     "outputs": [
      {
       "metadata": {},
       "output_type": "pyout",
       "prompt_number": 20,
       "text": [
        "bytes"
       ]
      }
     ],
     "prompt_number": 20
    },
    {
     "cell_type": "code",
     "collapsed": false,
     "input": [
      "buffer[0][0]"
     ],
     "language": "python",
     "metadata": {},
     "outputs": [
      {
       "metadata": {},
       "output_type": "pyout",
       "prompt_number": 21,
       "text": [
        "60"
       ]
      }
     ],
     "prompt_number": 21
    },
    {
     "cell_type": "code",
     "collapsed": false,
     "input": [
      "buff_0_str = buffer[0].decode(encoding=\"UTF-8\")"
     ],
     "language": "python",
     "metadata": {},
     "outputs": [],
     "prompt_number": 23
    },
    {
     "cell_type": "code",
     "collapsed": false,
     "input": [
      "print(buff_0_str)"
     ],
     "language": "python",
     "metadata": {},
     "outputs": [
      {
       "output_type": "stream",
       "stream": "stdout",
       "text": [
        "<html>\n",
        "<head>\n",
        "  <title>ocr</title>\n",
        "  <link rel=\"stylesheet\" type=\"text/css\" href=\"../style.css\">\n",
        "</head>\n",
        "<body>\n",
        "<center><img src=\"ocr.jpg\">\n",
        "<br><font color=\"#c03000\">\n",
        "recognize the characters. maybe they are in the book, <br>but MAYBE they \n",
        "are in the page source.</center>\n",
        "\n",
        "<br>\n",
        "<br>\n",
        "<br>\n",
        "\n",
        "<font size=\"-1\" color=\"gold\">\n",
        "General tips:\n",
        "<li>Use the hints. They are helpful, most of the times.</li>\n",
        "<li>Investigate the data given to you.</li>\n",
        "<li>Avoid looking for spoilers.</li>\n",
        "<br>\n",
        "Forums: <a href=\"http://www.pythonchallenge.com/forums\"/>Python Challenge Forums</a>, \n",
        "read before you post.\n",
        "<br>\n",
        "IRC: irc.freenode.net #pythonchallenge\n",
        "<br><br>\n",
        "To see the solutions to the previous level, replace pc with pcc, i.e. go \n",
        "to: http://www.pythonchallenge.com/pcc/def/ocr.html\n",
        "\n",
        "</body>\n",
        "</html>\n",
        "\n",
        "<!--\n",
        "find rare characters in the mess below:\n",
        "-->\n",
        "\n",
        "<!--\n",
        "%%$@_$^__#)^)&!_+]!*@&^}@[@%]()%+$&[(_@%+%$*^@$^!+]!&_#)_*}{}}!}_]$[%}@[{_@#_^{*\n",
        "@##&{#&{&)*%(]{{([*}@[@&]+!!*{)!}{%+{))])[!^})+)$]#{*+^((@^@}$[**$&^{$!@#$%)!@(&\n",
        "+^!{%_$&@^!}$_${)$_#)!({@!)(^}!*^&!$%_&&}&_#&@{)]{+)%*{&*%*&@%$+]!*__(#!*){%&@++\n",
        "!_)^$&&%#+)}!@!)&^}**#!_$([$!$}#*^}$+&#[{*{}{((#$]{[$[$$()_#}!@}^@_&%^*!){*^^_$^\n",
        "]@}#%[%!^[^_})+@&}{@*!(@$%$^)}[_!}(*}#}#_\n"
       ]
      }
     ],
     "prompt_number": 24
    },
    {
     "cell_type": "code",
     "collapsed": false,
     "input": [
      "bufStr = ''.join([for raw in buffer raw.decode(encoding=\"UTF-8\")])"
     ],
     "language": "python",
     "metadata": {},
     "outputs": [
      {
       "ename": "SyntaxError",
       "evalue": "invalid syntax (<ipython-input-28-2549bf87843a>, line 1)",
       "output_type": "pyerr",
       "traceback": [
        "\u001b[0;36m  File \u001b[0;32m\"<ipython-input-28-2549bf87843a>\"\u001b[0;36m, line \u001b[0;32m1\u001b[0m\n\u001b[0;31m    bufStr = ''.join([for raw in buffer raw.decode(encoding=\"UTF-8\")])\u001b[0m\n\u001b[0m                        ^\u001b[0m\n\u001b[0;31mSyntaxError\u001b[0m\u001b[0;31m:\u001b[0m invalid syntax\n"
       ]
      }
     ],
     "prompt_number": 28
    },
    {
     "cell_type": "code",
     "collapsed": false,
     "input": [
      "print(type(buf))\n",
      "print(type(buf[0]))"
     ],
     "language": "python",
     "metadata": {},
     "outputs": [
      {
       "output_type": "stream",
       "stream": "stdout",
       "text": [
        "<class 'list'>\n",
        "<class 'str'>\n"
       ]
      }
     ],
     "prompt_number": 50
    },
    {
     "cell_type": "code",
     "collapsed": false,
     "input": [
      "\n",
      "\n",
      "import operator, functools\n",
      "\n",
      "testStr = functools.reduce(operator.concat, buf)\n",
      "#testStr2 = str([b.decode(encoding=\"UTF-8\") for b in buffer])\n",
      "\n",
      "def bytesToStr(byteList):\n",
      "    for bytes in byteList:\n",
      "        yield bytes.decode(encoding=\"UTF-8\")\n",
      "        \n",
      "#testStr3 = str([x for x in bytesToStr(buffer)])\n",
      "\n",
      "print(len(testStr)); print(testStr[:8])\n",
      "#print(len(testStr2)); print(testStr2[:8])\n",
      "#print(len(testStr3)); print(testStr3[:8])"
     ],
     "language": "python",
     "metadata": {},
     "outputs": [
      {
       "output_type": "stream",
       "stream": "stdout",
       "text": [
        "99613\n",
        "<html>\n",
        "<\n"
       ]
      }
     ],
     "prompt_number": 51
    },
    {
     "cell_type": "code",
     "collapsed": false,
     "input": [
      "bufStr = bytesToStr(buffer)\n",
      "print(bufStr)"
     ],
     "language": "python",
     "metadata": {},
     "outputs": [
      {
       "output_type": "stream",
       "stream": "stdout",
       "text": [
        "<generator object bytesToStr at 0x10db041f8>\n"
       ]
      }
     ],
     "prompt_number": 10
    },
    {
     "cell_type": "code",
     "collapsed": false,
     "input": [
      "generator = bufStr\n",
      "bufStr = ''\n",
      "for x in generator bufStr += x"
     ],
     "language": "python",
     "metadata": {},
     "outputs": [
      {
       "ename": "SyntaxError",
       "evalue": "invalid syntax (<ipython-input-32-383101af3fcc>, line 3)",
       "output_type": "pyerr",
       "traceback": [
        "\u001b[0;36m  File \u001b[0;32m\"<ipython-input-32-383101af3fcc>\"\u001b[0;36m, line \u001b[0;32m3\u001b[0m\n\u001b[0;31m    for x in generator bufStr += x\u001b[0m\n\u001b[0m                            ^\u001b[0m\n\u001b[0;31mSyntaxError\u001b[0m\u001b[0;31m:\u001b[0m invalid syntax\n"
       ]
      }
     ],
     "prompt_number": 32
    },
    {
     "cell_type": "code",
     "collapsed": false,
     "input": [
      "bufStr = ''\n",
      "for x in bytesToStr(buffer):\n",
      "    bufStr += x\n",
      "#print(bufStr)"
     ],
     "language": "python",
     "metadata": {},
     "outputs": [],
     "prompt_number": 11
    },
    {
     "cell_type": "code",
     "collapsed": false,
     "input": [
      "import re\n",
      "\n",
      "# Need to do a non-greedy match (.*?), otherwise the single match will be\n",
      "# \"<!-- (instructions) --> ... <!-- ('rare char' block) -->\"\n",
      "#\n",
      "# Need to use the DOTALL flag, since the entire source code string has newlines in it.\n",
      "# Leave the HTML comment parts out of the group\n",
      "matches = re.findall(\"<!--(.*?)-->\", bufStr, flags=re.DOTALL)\n",
      "#for hit in matches:\n",
      "#    print(hit)\n",
      "\n",
      "# The second hit happens to be the block we're interested in. Just use that fact a priori for convenience.\n",
      "# Alternatively we could search the matches for the instructions block, and use the following match\n",
      "# as the 'rare character' block\n",
      "block = matches[1]"
     ],
     "language": "python",
     "metadata": {},
     "outputs": [],
     "prompt_number": 23
    },
    {
     "cell_type": "code",
     "collapsed": false,
     "input": [
      "\n",
      "block = matches[1]\n",
      "occurrences = dict()\n",
      "occurrences2 = dict()\n",
      "for idx, char in enumerate(block):\n",
      "    occurrences[char] = (idx, occurrences.get(char, (0,0))[1] + 1)\n",
      "    occurrences2[char] = occurrences2.get(char, 0) + 1\n",
      "print(len(occurrences))\n",
      "rare = [(char, tup) for (char, tup) in occurrences.items() if tup[1] == 1 and not (char == '<' or char == '>')]\n",
      "rare2 = list(filter(lambda char: occurrences2[char] == 1 and not (char == '<' or char == '>'), occurrences2))\n",
      "\n",
      "print(sorted(rare, key=lambda x: x[1][0]))\n",
      "print(rare2)"
     ],
     "language": "python",
     "metadata": {},
     "outputs": [
      {
       "output_type": "stream",
       "stream": "stdout",
       "text": [
        "28\n",
        "[('e', (2426, 1)), ('q', (26293, 1)), ('u', (33131, 1)), ('a', (44802, 1)), ('l', (62765, 1)), ('i', (84711, 1)), ('t', (86244, 1)), ('y', (87328, 1))]\n",
        "['y', 'e', 't', 'a', 'l', 'q', 'u', 'i']\n"
       ]
      }
     ],
     "prompt_number": 88
    },
    {
     "cell_type": "code",
     "collapsed": false,
     "input": [
      "# A psuedo-functional way of solving the problem.\n",
      "\n",
      "# Each character maps to a 2-element tuple with (<idx>, <count>),\n",
      "# where idx is the position of the last occurrence in the string and\n",
      "# count is the number of occurrences\n",
      "occurrences = dict()\n",
      "for idx, char in enumerate(block):\n",
      "    count = occurrences.get(char, (0,0))[1] + 1 # Use dict.get(..) so we can get a default tuple if char isnt mapped yet\n",
      "    occurrences[char] = (idx, count)\n",
      "\n",
      "# Now that we have all the characters mapped to an occurrence count, filter out the rare ones.\n",
      "rare = [(char, tup) for (char, tup) in occurrences.items() if tup[1] == 1]\n",
      "\n",
      "# Dictionaries store their items in an unordered fashion, so we need to sort our rare\n",
      "# characters by their position in the original string\n",
      "#\n",
      "# The join-ing portion is just to have a human-readable printout\n",
      "print(''.join(item[0] for item in sorted(rare, key=lambda x: x[1][0])))"
     ],
     "language": "python",
     "metadata": {},
     "outputs": [
      {
       "output_type": "stream",
       "stream": "stdout",
       "text": [
        "equality\n"
       ]
      }
     ],
     "prompt_number": 96
    },
    {
     "cell_type": "code",
     "collapsed": false,
     "input": [
      "# An arguably easier way to solve the problem. This does a greedy\n",
      "# recursive search into the string, removing duplicates until we've\n",
      "# exhausted all of the search space.\n",
      "#\n",
      "# Since the space is searched linearly and the solution isn't stored in a dict\n",
      "# like above, we end up with the solution without any additional manipulation\n",
      "#\n",
      "# Note: This may not be the most memory efficient. Hopefully all these intermediate strings are\n",
      "#       appropriately cleaned up during the recursive calls, but it's up to the Python kernel.\n",
      "#       Something, something, tail recursion...\n",
      "\n",
      "# Remove the newlines that are in the block (not strictly necessary with this given string)\n",
      "searchSpace = block.translate({ord(\"\\n\"):None})\n",
      "\n",
      "def removeDuplicates(space, soln=''):\n",
      "    ''' Recursively searches through the space removing duplicate characters'''\n",
      "    if(len(space) == 0):\n",
      "        return soln\n",
      "    \n",
      "    # If we've already seen the character, remove the char (and all occurrences of it) from\n",
      "    # both the search space and solution and continue recursing\n",
      "    #\n",
      "    # Note the use of str.translate(dict) since I'm using Python 3 (different signature from Python 2)\n",
      "    if space[0] in soln:\n",
      "        delTable = {ord(space[0]):None}\n",
      "        return removeDuplicates(space.translate(delTable), soln.translate(delTable))\n",
      "    else:\n",
      "        return removeDuplicates(space[1:], soln + space[0])\n",
      "        \n",
      "removeDuplicates(searchSpace)"
     ],
     "language": "python",
     "metadata": {},
     "outputs": [
      {
       "metadata": {},
       "output_type": "pyout",
       "prompt_number": 24,
       "text": [
        "'equality'"
       ]
      }
     ],
     "prompt_number": 24
    },
    {
     "cell_type": "code",
     "collapsed": false,
     "input": [
      "# According to the wise people of Stack Overflow\n",
      "#    (http://stackoverflow.com/questions/13591970/does-python-optimize-tail-recursion)\n",
      "# Python does not do tail call optimization (TCO).\n",
      "# From that thread, the hack to more-or-less get the tail recursion is to\n",
      "# wrap the method in a while loop.\n",
      "#\n",
      "# Keep in mind that this current stage solves fine, using recursion, without this optimization\n",
      "\n",
      "def removeDuplicates_tro(space, soln=''):\n",
      "    while True:\n",
      "        if(len(space) == 0):\n",
      "            return soln\n",
      "        \n",
      "        if space[0] in soln:\n",
      "            delTable = {ord(space[0]):None}\n",
      "            space = space.translate(delTable)\n",
      "            soln = soln.translate(delTable)\n",
      "        else:\n",
      "            soln = soln + space[0]\n",
      "            space = space[1:]\n",
      "\n",
      "searchSpace = block.translate({ord(\"\\n\"):None})\n",
      "removeDuplicates_tro(searchSpace)\n"
     ],
     "language": "python",
     "metadata": {},
     "outputs": [
      {
       "metadata": {},
       "output_type": "pyout",
       "prompt_number": 44,
       "text": [
        "'equality'"
       ]
      }
     ],
     "prompt_number": 44
    },
    {
     "cell_type": "code",
     "collapsed": false,
     "input": [
      "test = [1, 2, 3]\n",
      "targets = [2]\n",
      "for x in test:\n",
      "    print(x)\n",
      "    if x in targets:\n",
      "        print(\"Found \" + str(x) + \" in the test list!\")\n",
      "        \n",
      "print(test)"
     ],
     "language": "python",
     "metadata": {},
     "outputs": [
      {
       "output_type": "stream",
       "stream": "stdout",
       "text": [
        "1\n",
        "2\n",
        "Found 2 in the test list!\n",
        "3\n",
        "[1, 2, 3]\n"
       ]
      }
     ],
     "prompt_number": 16
    },
    {
     "cell_type": "code",
     "collapsed": false,
     "input": [
      "# Seeing if you can modify an iterable while iterating over it.\n",
      "# It works in this simple example, but the long story short version\n",
      "# is: don't do it\n",
      "\n",
      "test = \"abc\"\n",
      "for x in test:\n",
      "    if x == \"b\":\n",
      "        delTable = { ord(x):None }\n",
      "        test = test.translate(delTable)\n",
      "    \n",
      "print(test)"
     ],
     "language": "python",
     "metadata": {},
     "outputs": [
      {
       "output_type": "stream",
       "stream": "stdout",
       "text": [
        "ac\n"
       ]
      }
     ],
     "prompt_number": 22
    },
    {
     "cell_type": "code",
     "collapsed": false,
     "input": [],
     "language": "python",
     "metadata": {},
     "outputs": []
    }
   ],
   "metadata": {}
  }
 ]
}