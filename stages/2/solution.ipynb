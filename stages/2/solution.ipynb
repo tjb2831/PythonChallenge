{
 "metadata": {
  "name": "",
  "signature": "sha256:9edee93540713cdf067dc0462e53b0032edac4751b1475ef19ecad12cc6b53ae"
 },
 "nbformat": 3,
 "nbformat_minor": 0,
 "worksheets": [
  {
   "cells": [
    {
     "cell_type": "code",
     "collapsed": false,
     "input": [
      "# Use PyCurl to grab the Web page source code.\n",
      "#\n",
      "# PyCurl will give packets of bytes until all data has been transfered.\n",
      "# Use a lambda function for the write function that will encode\n",
      "# each packet of binary data into a string and append it to a list\n",
      "\n",
      "import pycurl\n",
      "\n",
      "sourceList = []\n",
      "curlObj = pycurl.Curl()\n",
      "curlObj.setopt(pycurl.URL, \"http://www.pythonchallenge.com/pc/def/ocr.html\")\n",
      "curlObj.setopt(pycurl.WRITEFUNCTION, lambda data: sourceList.append(data.decode(encoding=\"UTF-8\")))\n",
      "curlObj.perform()"
     ],
     "language": "python",
     "metadata": {},
     "outputs": [],
     "prompt_number": 3
    },
    {
     "cell_type": "code",
     "collapsed": false,
     "input": [
      "# Create a single string out of the list of source fragments.\n",
      "# Use functions from the functools and operator modules since they already exist\n",
      "#\n",
      "# Alternatively, we could loop through the sourceList and build the string ourselves\n",
      "import functools, operator\n",
      "\n",
      "sourceCode = functools.reduce(operator.concat, sourceList)"
     ],
     "language": "python",
     "metadata": {},
     "outputs": [],
     "prompt_number": 4
    },
    {
     "cell_type": "code",
     "collapsed": false,
     "input": [
      "# Now we have the entire page source as a single string, we need\n",
      "# to isolate the search block. Since the block is an HTML\n",
      "# comment, a regular expression search will find it\n",
      "import re\n",
      "\n",
      "# Do a non-greedy search for all HTML comments.\n",
      "# The DOTALL flag lets the search continue past newlines\n",
      "matches = re.findall(\"<!--(.*?)-->\", sourceCode, flags=re.DOTALL)\n",
      "\n",
      "# The second hit happens to be the block we want. Lets\n",
      "# just use that a priori for convenience. Also, lets remove those newlines, just cause\n",
      "searchSpace = matches[1].translate({ord(\"\\n\"):None})"
     ],
     "language": "python",
     "metadata": {},
     "outputs": [],
     "prompt_number": 8
    },
    {
     "cell_type": "code",
     "collapsed": false,
     "input": [
      "# To find the solution, we'll use a recursive function that\n",
      "# acts very similar to the Sieve of Eratosthenes.\n",
      "#\n",
      "# We will scan the search space linearly, building the solution.\n",
      "# For each character, if it's in the solution, remove it from the solution\n",
      "# and remove all occurrences of it from the search space. Otherwise, add\n",
      "# it to the solution and continue.\n",
      "#\n",
      "# As we move through, the search space dwindles and resultant string\n",
      "# becomes all of the unique characters, in the order they appeared in the\n",
      "# search space\n",
      "def removeDuplicates(space, soln=\"\"):\n",
      "    ''' Recursively remove all duplicate characters from the given string '''\n",
      "    if(len(space) == 0):\n",
      "        return soln\n",
      "    \n",
      "    if(space[0] in soln):\n",
      "        delTable = {ord(space[0]):None}\n",
      "        return removeDuplicates(space.translate(delTable), soln.translate(delTable))\n",
      "    \n",
      "    return removeDuplicates(space[1:], soln + space[0])\n",
      "\n"
     ],
     "language": "python",
     "metadata": {},
     "outputs": [],
     "prompt_number": 10
    },
    {
     "cell_type": "code",
     "collapsed": false,
     "input": [
      "removeDuplicates(searchSpace)"
     ],
     "language": "python",
     "metadata": {},
     "outputs": [
      {
       "metadata": {},
       "output_type": "pyout",
       "prompt_number": 11,
       "text": [
        "'equality'"
       ]
      }
     ],
     "prompt_number": 11
    },
    {
     "cell_type": "code",
     "collapsed": false,
     "input": [],
     "language": "python",
     "metadata": {},
     "outputs": []
    }
   ],
   "metadata": {}
  }
 ]
}