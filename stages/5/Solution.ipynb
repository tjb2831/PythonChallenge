{
 "metadata": {
  "name": "",
  "signature": "sha256:0a52f9e6e28b4293fd57d2b4ef1bd202b01f24034ca8766746242f0f3db5c424"
 },
 "nbformat": 3,
 "nbformat_minor": 0,
 "worksheets": [
  {
   "cells": [
    {
     "cell_type": "code",
     "collapsed": false,
     "input": [
      "# Get the imports out of the way\n",
      "# We need byte storage, pycurl, and pickle\n",
      "import pycurl\n",
      "import pickle\n",
      "from io import BytesIO"
     ],
     "language": "python",
     "metadata": {},
     "outputs": [],
     "prompt_number": 1
    },
    {
     "cell_type": "code",
     "collapsed": false,
     "input": [
      "# Do the PycURL read as usual\n",
      "url = \"http://www.pythonchallenge.com/pc/def/banner.p\"\n",
      "rawData = BytesIO()\n",
      "\n",
      "curlObj = pycurl.Curl()\n",
      "curlObj.setopt(pycurl.URL, url)\n",
      "curlObj.setopt(pycurl.WRITEDATA, rawData)\n",
      "curlObj.perform()\n",
      "curlObj.close()"
     ],
     "language": "python",
     "metadata": {},
     "outputs": [],
     "prompt_number": 2
    },
    {
     "cell_type": "code",
     "collapsed": false,
     "input": [
      "# For some reason, calling pickle.load on the BytesIO object\n",
      "# raises an EOFError. I wasn't able to figure out why exactly.\n",
      "# Instead we have to call pickle.loads on the BytesIO's value\n",
      "pickled = pickle.loads(rawData.getvalue())\n",
      "\n",
      "# The un-pickled object is a list of lists of tuples.\n",
      "# Each tuple has either a space or hash character and an integer\n",
      "for p in pickled[:10]:\n",
      "    print(p)"
     ],
     "language": "python",
     "metadata": {},
     "outputs": [
      {
       "output_type": "stream",
       "stream": "stdout",
       "text": [
        "[(' ', 95)]\n",
        "[(' ', 14), ('#', 5), (' ', 70), ('#', 5), (' ', 1)]\n",
        "[(' ', 15), ('#', 4), (' ', 71), ('#', 4), (' ', 1)]\n",
        "[(' ', 15), ('#', 4), (' ', 71), ('#', 4), (' ', 1)]\n",
        "[(' ', 15), ('#', 4), (' ', 71), ('#', 4), (' ', 1)]\n",
        "[(' ', 15), ('#', 4), (' ', 71), ('#', 4), (' ', 1)]\n",
        "[(' ', 15), ('#', 4), (' ', 71), ('#', 4), (' ', 1)]\n",
        "[(' ', 15), ('#', 4), (' ', 71), ('#', 4), (' ', 1)]\n",
        "[(' ', 15), ('#', 4), (' ', 71), ('#', 4), (' ', 1)]\n",
        "[(' ', 6), ('#', 3), (' ', 6), ('#', 4), (' ', 3), ('#', 3), (' ', 9), ('#', 3), (' ', 7), ('#', 5), (' ', 3), ('#', 3), (' ', 4), ('#', 5), (' ', 3), ('#', 3), (' ', 10), ('#', 3), (' ', 7), ('#', 4), (' ', 1)]\n"
       ]
      }
     ],
     "prompt_number": 6
    },
    {
     "cell_type": "code",
     "collapsed": false,
     "input": [
      "# After failing over and over to see a pattern, I gave in and Googled the\n",
      "# solution. It turns out the object is a essentially a bitmap\n",
      "# Each inner list represents a single line on the screen (where pickled[0] == top line).\n",
      "# Each tuple describes what character to print, and how many of them.\n",
      "for line in pickled:\n",
      "    print(''.join(char * num for (char, num) in line))"
     ],
     "language": "python",
     "metadata": {},
     "outputs": [
      {
       "output_type": "stream",
       "stream": "stdout",
       "text": [
        "                                                                                               \n",
        "              #####                                                                      ##### \n",
        "               ####                                                                       #### \n",
        "               ####                                                                       #### \n",
        "               ####                                                                       #### \n",
        "               ####                                                                       #### \n",
        "               ####                                                                       #### \n",
        "               ####                                                                       #### \n",
        "               ####                                                                       #### \n",
        "      ###      ####   ###         ###       #####   ###    #####   ###          ###       #### \n",
        "   ###   ##    #### #######     ##  ###      #### #######   #### #######     ###  ###     #### \n",
        "  ###     ###  #####    ####   ###   ####    #####    ####  #####    ####   ###     ###   #### \n",
        " ###           ####     ####   ###    ###    ####     ####  ####     ####  ###      ####  #### \n",
        " ###           ####     ####          ###    ####     ####  ####     ####  ###       ###  #### \n",
        "####           ####     ####     ##   ###    ####     ####  ####     #### ####       ###  #### \n",
        "####           ####     ####   ##########    ####     ####  ####     #### ##############  #### \n",
        "####           ####     ####  ###    ####    ####     ####  ####     #### ####            #### \n",
        "####           ####     #### ####     ###    ####     ####  ####     #### ####            #### \n",
        " ###           ####     #### ####     ###    ####     ####  ####     ####  ###            #### \n",
        "  ###      ##  ####     ####  ###    ####    ####     ####  ####     ####   ###      ##   #### \n",
        "   ###    ##   ####     ####   ###########   ####     ####  ####     ####    ###    ##    #### \n",
        "      ###     ######    #####    ##    #### ######    ###########    #####      ###      ######\n",
        "                                                                                               \n"
       ]
      }
     ],
     "prompt_number": 7
    },
    {
     "cell_type": "code",
     "collapsed": false,
     "input": [],
     "language": "python",
     "metadata": {},
     "outputs": []
    }
   ],
   "metadata": {}
  }
 ]
}