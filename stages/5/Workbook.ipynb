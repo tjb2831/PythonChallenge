{
 "metadata": {
  "name": "",
  "signature": "sha256:021af0e8c540b90a53fcf60cf79d6108c2c512f6787484e701d1a44a19a60616"
 },
 "nbformat": 3,
 "nbformat_minor": 0,
 "worksheets": [
  {
   "cells": [
    {
     "cell_type": "code",
     "collapsed": false,
     "input": [
      "import pycurl\n",
      "import pickle\n",
      "from io import BytesIO"
     ],
     "language": "python",
     "metadata": {},
     "outputs": [],
     "prompt_number": 2
    },
    {
     "cell_type": "code",
     "collapsed": false,
     "input": [
      "rawData = BytesIO()\n",
      "curlObj = pycurl.Curl()\n",
      "curlObj.setopt(pycurl.URL, \"http://www.pythonchallenge.com/pc/def/banner.p\")\n",
      "curlObj.setopt(pycurl.WRITEDATA, rawData)\n",
      "curlObj.perform()"
     ],
     "language": "python",
     "metadata": {},
     "outputs": [],
     "prompt_number": 84
    },
    {
     "cell_type": "code",
     "collapsed": false,
     "input": [
      "print(\"Total bytes: \" + str(len(rawData.getvalue())))\n",
      "#result = pickle.load(rawData, encoding=\"bytes\")\n",
      "s = rawData.getvalue().decode(encoding=\"UTF-8\").translate({ord(\"\\n\"):None})\n",
      "otherRaw = s.encode()\n",
      "print(\"Bytes without newlines: \" + str(len(otherRaw)))\n",
      "print(\"Number of newlines: \" + str(rawData.getvalue().decode(encoding=\"UTF-8\").count('\\n')))\n",
      "print(5002-1070)\n",
      "#result = pickle.load(BytesIO(otherRaw), encoding=\"bytes\")"
     ],
     "language": "python",
     "metadata": {},
     "outputs": [
      {
       "output_type": "stream",
       "stream": "stdout",
       "text": [
        "Total bytes: 5002\n",
        "Bytes without newlines: 3932\n",
        "Number of newlines: 1070\n",
        "3932\n"
       ]
      }
     ],
     "prompt_number": 23
    },
    {
     "cell_type": "code",
     "collapsed": false,
     "input": [
      "with open(\"banner.p\", \"rb\") as pickFile:\n",
      "    pickled = pickle.load(pickFile)"
     ],
     "language": "python",
     "metadata": {},
     "outputs": [],
     "prompt_number": 24
    },
    {
     "cell_type": "code",
     "collapsed": false,
     "input": [
      "#print(pickled)\n",
      "s_pound = 0\n",
      "s_space = 0\n",
      "numStr = \"\"\n",
      "for item in pickled:\n",
      "    for nested in item:\n",
      "        if(nested[0] != '#'):\n",
      "            s_pound += nested[1]\n",
      "            numStr += str(nested[1])\n",
      "        else:\n",
      "            s_space += nested[1]\n",
      "print(\"s# = \" + str(s_pound))\n",
      "print(\"s_ = \" + str(s_space))\n",
      "print(\"numString = \" + numStr)"
     ],
     "language": "python",
     "metadata": {},
     "outputs": [
      {
       "output_type": "stream",
       "stream": "stdout",
       "text": [
        "s# = 1524\n",
        "s_ = 661\n",
        "numString = 951470115711157111571115711157111571115711663973431071334152613152512524334424353111153445252621111510452527211155345251721115345251211152445251121115154525112111151545252121262524452536313435335254441654441446695\n"
       ]
      }
     ],
     "prompt_number": 59
    },
    {
     "cell_type": "code",
     "collapsed": false,
     "input": [
      "with open(\"banner.p\", \"rb\") as f:\n",
      "    rawPickled = pickle.load(f, encoding=\"bytes\")"
     ],
     "language": "python",
     "metadata": {},
     "outputs": [],
     "prompt_number": 34
    },
    {
     "cell_type": "code",
     "collapsed": false,
     "input": [
      "#print(pickled)"
     ],
     "language": "python",
     "metadata": {},
     "outputs": [],
     "prompt_number": 46
    },
    {
     "cell_type": "code",
     "collapsed": false,
     "input": [
      "for item in pickled:\n",
      "    print(item)"
     ],
     "language": "python",
     "metadata": {},
     "outputs": [
      {
       "output_type": "stream",
       "stream": "stdout",
       "text": [
        "[(' ', 95)]\n",
        "[(' ', 14), ('#', 5), (' ', 70), ('#', 5), (' ', 1)]\n",
        "[(' ', 15), ('#', 4), (' ', 71), ('#', 4), (' ', 1)]\n",
        "[(' ', 15), ('#', 4), (' ', 71), ('#', 4), (' ', 1)]\n",
        "[(' ', 15), ('#', 4), (' ', 71), ('#', 4), (' ', 1)]\n",
        "[(' ', 15), ('#', 4), (' ', 71), ('#', 4), (' ', 1)]\n",
        "[(' ', 15), ('#', 4), (' ', 71), ('#', 4), (' ', 1)]\n",
        "[(' ', 15), ('#', 4), (' ', 71), ('#', 4), (' ', 1)]\n",
        "[(' ', 15), ('#', 4), (' ', 71), ('#', 4), (' ', 1)]\n",
        "[(' ', 6), ('#', 3), (' ', 6), ('#', 4), (' ', 3), ('#', 3), (' ', 9), ('#', 3), (' ', 7), ('#', 5), (' ', 3), ('#', 3), (' ', 4), ('#', 5), (' ', 3), ('#', 3), (' ', 10), ('#', 3), (' ', 7), ('#', 4), (' ', 1)]\n",
        "[(' ', 3), ('#', 3), (' ', 3), ('#', 2), (' ', 4), ('#', 4), (' ', 1), ('#', 7), (' ', 5), ('#', 2), (' ', 2), ('#', 3), (' ', 6), ('#', 4), (' ', 1), ('#', 7), (' ', 3), ('#', 4), (' ', 1), ('#', 7), (' ', 5), ('#', 3), (' ', 2), ('#', 3), (' ', 5), ('#', 4), (' ', 1)]\n",
        "[(' ', 2), ('#', 3), (' ', 5), ('#', 3), (' ', 2), ('#', 5), (' ', 4), ('#', 4), (' ', 3), ('#', 3), (' ', 3), ('#', 4), (' ', 4), ('#', 5), (' ', 4), ('#', 4), (' ', 2), ('#', 5), (' ', 4), ('#', 4), (' ', 3), ('#', 3), (' ', 5), ('#', 3), (' ', 3), ('#', 4), (' ', 1)]\n",
        "[(' ', 1), ('#', 3), (' ', 11), ('#', 4), (' ', 5), ('#', 4), (' ', 3), ('#', 3), (' ', 4), ('#', 3), (' ', 4), ('#', 4), (' ', 5), ('#', 4), (' ', 2), ('#', 4), (' ', 5), ('#', 4), (' ', 2), ('#', 3), (' ', 6), ('#', 4), (' ', 2), ('#', 4), (' ', 1)]\n",
        "[(' ', 1), ('#', 3), (' ', 11), ('#', 4), (' ', 5), ('#', 4), (' ', 10), ('#', 3), (' ', 4), ('#', 4), (' ', 5), ('#', 4), (' ', 2), ('#', 4), (' ', 5), ('#', 4), (' ', 2), ('#', 3), (' ', 7), ('#', 3), (' ', 2), ('#', 4), (' ', 1)]\n",
        "[('#', 4), (' ', 11), ('#', 4), (' ', 5), ('#', 4), (' ', 5), ('#', 2), (' ', 3), ('#', 3), (' ', 4), ('#', 4), (' ', 5), ('#', 4), (' ', 2), ('#', 4), (' ', 5), ('#', 4), (' ', 1), ('#', 4), (' ', 7), ('#', 3), (' ', 2), ('#', 4), (' ', 1)]\n",
        "[('#', 4), (' ', 11), ('#', 4), (' ', 5), ('#', 4), (' ', 3), ('#', 10), (' ', 4), ('#', 4), (' ', 5), ('#', 4), (' ', 2), ('#', 4), (' ', 5), ('#', 4), (' ', 1), ('#', 14), (' ', 2), ('#', 4), (' ', 1)]\n",
        "[('#', 4), (' ', 11), ('#', 4), (' ', 5), ('#', 4), (' ', 2), ('#', 3), (' ', 4), ('#', 4), (' ', 4), ('#', 4), (' ', 5), ('#', 4), (' ', 2), ('#', 4), (' ', 5), ('#', 4), (' ', 1), ('#', 4), (' ', 12), ('#', 4), (' ', 1)]\n",
        "[('#', 4), (' ', 11), ('#', 4), (' ', 5), ('#', 4), (' ', 1), ('#', 4), (' ', 5), ('#', 3), (' ', 4), ('#', 4), (' ', 5), ('#', 4), (' ', 2), ('#', 4), (' ', 5), ('#', 4), (' ', 1), ('#', 4), (' ', 12), ('#', 4), (' ', 1)]\n",
        "[(' ', 1), ('#', 3), (' ', 11), ('#', 4), (' ', 5), ('#', 4), (' ', 1), ('#', 4), (' ', 5), ('#', 3), (' ', 4), ('#', 4), (' ', 5), ('#', 4), (' ', 2), ('#', 4), (' ', 5), ('#', 4), (' ', 2), ('#', 3), (' ', 12), ('#', 4), (' ', 1)]\n",
        "[(' ', 2), ('#', 3), (' ', 6), ('#', 2), (' ', 2), ('#', 4), (' ', 5), ('#', 4), (' ', 2), ('#', 3), (' ', 4), ('#', 4), (' ', 4), ('#', 4), (' ', 5), ('#', 4), (' ', 2), ('#', 4), (' ', 5), ('#', 4), (' ', 3), ('#', 3), (' ', 6), ('#', 2), (' ', 3), ('#', 4), (' ', 1)]\n",
        "[(' ', 3), ('#', 3), (' ', 4), ('#', 2), (' ', 3), ('#', 4), (' ', 5), ('#', 4), (' ', 3), ('#', 11), (' ', 3), ('#', 4), (' ', 5), ('#', 4), (' ', 2), ('#', 4), (' ', 5), ('#', 4), (' ', 4), ('#', 3), (' ', 4), ('#', 2), (' ', 4), ('#', 4), (' ', 1)]\n",
        "[(' ', 6), ('#', 3), (' ', 5), ('#', 6), (' ', 4), ('#', 5), (' ', 4), ('#', 2), (' ', 4), ('#', 4), (' ', 1), ('#', 6), (' ', 4), ('#', 11), (' ', 4), ('#', 5), (' ', 6), ('#', 3), (' ', 6), ('#', 6)]\n",
        "[(' ', 95)]\n"
       ]
      }
     ],
     "prompt_number": 45
    },
    {
     "cell_type": "code",
     "collapsed": false,
     "input": [
      "with open(\"banner.p\", \"rb\") as f:\n",
      "    nonFixPickle = pickle.load(f, fix_imports=False, encoding=\"UTF-8\")"
     ],
     "language": "python",
     "metadata": {},
     "outputs": [],
     "prompt_number": 64
    },
    {
     "cell_type": "code",
     "collapsed": false,
     "input": [
      "print(nonFixPickle is pickled)\n",
      "print(nonFixPickle == pickled)"
     ],
     "language": "python",
     "metadata": {},
     "outputs": [
      {
       "output_type": "stream",
       "stream": "stdout",
       "text": [
        "False\n",
        "True\n"
       ]
      }
     ],
     "prompt_number": 65
    },
    {
     "cell_type": "code",
     "collapsed": false,
     "input": [
      "#import pickletools\n",
      "\n",
      "#with open('banner.p', 'rb') as f:\n",
      "#    pickletools.dis(f)\n"
     ],
     "language": "python",
     "metadata": {},
     "outputs": [],
     "prompt_number": 76
    },
    {
     "cell_type": "code",
     "collapsed": false,
     "input": [
      "hashInts = set()\n",
      "spaceInts = set()\n",
      "chrs = ''\n",
      "\n",
      "for l in pickled:\n",
      "    for tup in l:\n",
      "        if tup[0] == '#':\n",
      "            hashInts.add(tup[1])\n",
      "        else:\n",
      "            spaceInts.add(tup[1])\n",
      "        chrs += chr(tup[1])\n",
      "            \n",
      "print(\"Hashes: \" + str(sorted(hashInts)))\n",
      "print(\"Spaces: \" + str(sorted(spaceInts)))\n",
      "print(\"Chrs: \" + chrs)"
     ],
     "language": "python",
     "metadata": {},
     "outputs": [
      {
       "output_type": "stream",
       "stream": "stdout",
       "text": [
        "Hashes: [2, 3, 4, 5, 6, 7, 10, 11, 14]\n",
        "Spaces: [1, 2, 3, 4, 5, 6, 7, 9, 10, 11, 12, 14, 15, 70, 71, 95]\n",
        "Chrs: _\u000e\u0005F\u0005\u0001\u000f\u0004G\u0004\u0001\u000f\u0004G\u0004\u0001\u000f\u0004G\u0004\u0001\u000f\u0004G\u0004\u0001\u000f\u0004G\u0004\u0001\u000f\u0004G\u0004\u0001\u000f\u0004G\u0004\u0001\u0006\u0003\u0006\u0004\u0003\u0003\t\u0003\u0007\u0005\u0003\u0003\u0004\u0005\u0003\u0003\n",
        "\u0003\u0007\u0004\u0001\u0003\u0003\u0003\u0002\u0004\u0004\u0001\u0007\u0005\u0002\u0002\u0003\u0006\u0004\u0001\u0007\u0003\u0004\u0001\u0007\u0005\u0003\u0002\u0003\u0005\u0004\u0001\u0002\u0003\u0005\u0003\u0002\u0005\u0004\u0004\u0003\u0003\u0003\u0004\u0004\u0005\u0004\u0004\u0002\u0005\u0004\u0004\u0003\u0003\u0005\u0003\u0003\u0004\u0001\u0001\u0003\u000b",
        "\u0004\u0005\u0004\u0003\u0003\u0004\u0003\u0004\u0004\u0005\u0004\u0002\u0004\u0005\u0004\u0002\u0003\u0006\u0004\u0002\u0004\u0001\u0001\u0003\u000b",
        "\u0004\u0005\u0004\n",
        "\u0003\u0004\u0004\u0005\u0004\u0002\u0004\u0005\u0004\u0002\u0003\u0007\u0003\u0002\u0004\u0001\u0004\u000b",
        "\u0004\u0005\u0004\u0005\u0002\u0003\u0003\u0004\u0004\u0005\u0004\u0002\u0004\u0005\u0004\u0001\u0004\u0007\u0003\u0002\u0004\u0001\u0004\u000b",
        "\u0004\u0005\u0004\u0003\n",
        "\u0004\u0004\u0005\u0004\u0002\u0004\u0005\u0004\u0001\u000e\u0002\u0004\u0001\u0004\u000b",
        "\u0004\u0005\u0004\u0002\u0003\u0004\u0004\u0004\u0004\u0005\u0004\u0002\u0004\u0005\u0004\u0001\u0004\f",
        "\u0004\u0001\u0004\u000b",
        "\u0004\u0005\u0004\u0001\u0004\u0005\u0003\u0004\u0004\u0005\u0004\u0002\u0004\u0005\u0004\u0001\u0004\f",
        "\u0004\u0001\u0001\u0003\u000b",
        "\u0004\u0005\u0004\u0001\u0004\u0005\u0003\u0004\u0004\u0005\u0004\u0002\u0004\u0005\u0004\u0002\u0003\f",
        "\u0004\u0001\u0002\u0003\u0006\u0002\u0002\u0004\u0005\u0004\u0002\u0003\u0004\u0004\u0004\u0004\u0005\u0004\u0002\u0004\u0005\u0004\u0003\u0003\u0006\u0002\u0003\u0004\u0001\u0003\u0003\u0004\u0002\u0003\u0004\u0005\u0004\u0003\u000b",
        "\u0003\u0004\u0005\u0004\u0002\u0004\u0005\u0004\u0004\u0003\u0004\u0002\u0004\u0004\u0001\u0006\u0003\u0005\u0006\u0004\u0005\u0004\u0002\u0004\u0004\u0001\u0006\u0004\u000b",
        "\u0004\u0005\u0006\u0003\u0006\u0006_\n"
       ]
      }
     ],
     "prompt_number": 72
    },
    {
     "cell_type": "code",
     "collapsed": false,
     "input": [
      "counts = {}\n",
      "for l in pickled:\n",
      "    for item in l:\n",
      "        key = item[0]\n",
      "        num = item[1]\n",
      "        d = counts.get(key, {})\n",
      "        c = d.get(num, 0) + 1\n",
      "        if(len(d) == 0):\n",
      "            counts[key] = {}\n",
      "        counts[key][num] = c\n",
      "        \n",
      "for (k, v) in counts.items():\n",
      "    print(k + \" + has \" + str(v) + \" matches\")"
     ],
     "language": "python",
     "metadata": {},
     "outputs": [
      {
       "output_type": "stream",
       "stream": "stdout",
       "text": [
        "  + has {1: 33, 2: 25, 3: 19, 4: 26, 70: 1, 6: 9, 71: 7, 9: 1, 10: 2, 7: 4, 12: 3, 14: 1, 15: 7, 11: 7, 5: 36, 95: 2} matches\n",
        "# + has {2: 8, 3: 37, 4: 101, 5: 9, 6: 3, 7: 3, 10: 1, 11: 2, 14: 1} matches\n"
       ]
      }
     ],
     "prompt_number": 79
    },
    {
     "cell_type": "code",
     "collapsed": false,
     "input": [
      "filtered = []\n",
      "for inner in pickled:\n",
      "    l = []\n",
      "    for item in inner:\n",
      "        if(item[0] != '#'):\n",
      "            l.append(item)\n",
      "    filtered.append(l)\n",
      "    \n",
      "for item in filtered:\n",
      "    print(item)"
     ],
     "language": "python",
     "metadata": {},
     "outputs": [
      {
       "output_type": "stream",
       "stream": "stdout",
       "text": [
        "[(' ', 95)]\n",
        "[(' ', 14), (' ', 70), (' ', 1)]\n",
        "[(' ', 15), (' ', 71), (' ', 1)]\n",
        "[(' ', 15), (' ', 71), (' ', 1)]\n",
        "[(' ', 15), (' ', 71), (' ', 1)]\n",
        "[(' ', 15), (' ', 71), (' ', 1)]\n",
        "[(' ', 15), (' ', 71), (' ', 1)]\n",
        "[(' ', 15), (' ', 71), (' ', 1)]\n",
        "[(' ', 15), (' ', 71), (' ', 1)]\n",
        "[(' ', 6), (' ', 6), (' ', 3), (' ', 9), (' ', 7), (' ', 3), (' ', 4), (' ', 3), (' ', 10), (' ', 7), (' ', 1)]\n",
        "[(' ', 3), (' ', 3), (' ', 4), (' ', 1), (' ', 5), (' ', 2), (' ', 6), (' ', 1), (' ', 3), (' ', 1), (' ', 5), (' ', 2), (' ', 5), (' ', 1)]\n",
        "[(' ', 2), (' ', 5), (' ', 2), (' ', 4), (' ', 3), (' ', 3), (' ', 4), (' ', 4), (' ', 2), (' ', 4), (' ', 3), (' ', 5), (' ', 3), (' ', 1)]\n",
        "[(' ', 1), (' ', 11), (' ', 5), (' ', 3), (' ', 4), (' ', 4), (' ', 5), (' ', 2), (' ', 5), (' ', 2), (' ', 6), (' ', 2), (' ', 1)]\n",
        "[(' ', 1), (' ', 11), (' ', 5), (' ', 10), (' ', 4), (' ', 5), (' ', 2), (' ', 5), (' ', 2), (' ', 7), (' ', 2), (' ', 1)]\n",
        "[(' ', 11), (' ', 5), (' ', 5), (' ', 3), (' ', 4), (' ', 5), (' ', 2), (' ', 5), (' ', 1), (' ', 7), (' ', 2), (' ', 1)]\n",
        "[(' ', 11), (' ', 5), (' ', 3), (' ', 4), (' ', 5), (' ', 2), (' ', 5), (' ', 1), (' ', 2), (' ', 1)]\n",
        "[(' ', 11), (' ', 5), (' ', 2), (' ', 4), (' ', 4), (' ', 5), (' ', 2), (' ', 5), (' ', 1), (' ', 12), (' ', 1)]\n",
        "[(' ', 11), (' ', 5), (' ', 1), (' ', 5), (' ', 4), (' ', 5), (' ', 2), (' ', 5), (' ', 1), (' ', 12), (' ', 1)]\n",
        "[(' ', 1), (' ', 11), (' ', 5), (' ', 1), (' ', 5), (' ', 4), (' ', 5), (' ', 2), (' ', 5), (' ', 2), (' ', 12), (' ', 1)]\n",
        "[(' ', 2), (' ', 6), (' ', 2), (' ', 5), (' ', 2), (' ', 4), (' ', 4), (' ', 5), (' ', 2), (' ', 5), (' ', 3), (' ', 6), (' ', 3), (' ', 1)]\n",
        "[(' ', 3), (' ', 4), (' ', 3), (' ', 5), (' ', 3), (' ', 3), (' ', 5), (' ', 2), (' ', 5), (' ', 4), (' ', 4), (' ', 4), (' ', 1)]\n",
        "[(' ', 6), (' ', 5), (' ', 4), (' ', 4), (' ', 4), (' ', 1), (' ', 4), (' ', 4), (' ', 6), (' ', 6)]\n",
        "[(' ', 95)]\n"
       ]
      }
     ],
     "prompt_number": 80
    },
    {
     "cell_type": "code",
     "collapsed": false,
     "input": [
      "for item in pickled:\n",
      "    print(''.join(i[0] * i[1] for i in item))"
     ],
     "language": "python",
     "metadata": {},
     "outputs": [
      {
       "output_type": "stream",
       "stream": "stdout",
       "text": [
        "                                                                                               \n",
        "              #####                                                                      ##### \n",
        "               ####                                                                       #### \n",
        "               ####                                                                       #### \n",
        "               ####                                                                       #### \n",
        "               ####                                                                       #### \n",
        "               ####                                                                       #### \n",
        "               ####                                                                       #### \n",
        "               ####                                                                       #### \n",
        "      ###      ####   ###         ###       #####   ###    #####   ###          ###       #### \n",
        "   ###   ##    #### #######     ##  ###      #### #######   #### #######     ###  ###     #### \n",
        "  ###     ###  #####    ####   ###   ####    #####    ####  #####    ####   ###     ###   #### \n",
        " ###           ####     ####   ###    ###    ####     ####  ####     ####  ###      ####  #### \n",
        " ###           ####     ####          ###    ####     ####  ####     ####  ###       ###  #### \n",
        "####           ####     ####     ##   ###    ####     ####  ####     #### ####       ###  #### \n",
        "####           ####     ####   ##########    ####     ####  ####     #### ##############  #### \n",
        "####           ####     ####  ###    ####    ####     ####  ####     #### ####            #### \n",
        "####           ####     #### ####     ###    ####     ####  ####     #### ####            #### \n",
        " ###           ####     #### ####     ###    ####     ####  ####     ####  ###            #### \n",
        "  ###      ##  ####     ####  ###    ####    ####     ####  ####     ####   ###      ##   #### \n",
        "   ###    ##   ####     ####   ###########   ####     ####  ####     ####    ###    ##    #### \n",
        "      ###     ######    #####    ##    #### ######    ###########    #####      ###      ######\n",
        "                                                                                               \n"
       ]
      }
     ],
     "prompt_number": 83
    },
    {
     "cell_type": "code",
     "collapsed": false,
     "input": [
      "\n",
      "rawData = BytesIO()\n",
      "curlObj = pycurl.Curl()\n",
      "curlObj.setopt(pycurl.URL, \"http://www.pythonchallenge.com/pc/def/banner.p\")\n",
      "curlObj.setopt(pycurl.WRITEDATA, rawData)\n",
      "curlObj.perform()\n",
      "curlObj.close()"
     ],
     "language": "python",
     "metadata": {},
     "outputs": [],
     "prompt_number": 89
    },
    {
     "cell_type": "code",
     "collapsed": false,
     "input": [
      "body = rawData.getvalue()\n",
      "\n",
      "# Works fine\n",
      "pick = pickle.loads(body)\n",
      "\n",
      "# Fails with EOFError (out of input)\n",
      "badPick = pickle.load(rawData)"
     ],
     "language": "python",
     "metadata": {},
     "outputs": [
      {
       "ename": "EOFError",
       "evalue": "Ran out of input",
       "output_type": "pyerr",
       "traceback": [
        "\u001b[0;31m---------------------------------------------------------------------------\u001b[0m\n\u001b[0;31mEOFError\u001b[0m                                  Traceback (most recent call last)",
        "\u001b[0;32m<ipython-input-105-dcf5d9bde9af>\u001b[0m in \u001b[0;36m<module>\u001b[0;34m()\u001b[0m\n\u001b[1;32m      5\u001b[0m \u001b[0;34m\u001b[0m\u001b[0m\n\u001b[1;32m      6\u001b[0m \u001b[0;31m# Fails with EOFError (out of input)\u001b[0m\u001b[0;34m\u001b[0m\u001b[0;34m\u001b[0m\u001b[0m\n\u001b[0;32m----> 7\u001b[0;31m \u001b[0mbadPick\u001b[0m \u001b[0;34m=\u001b[0m \u001b[0mpickle\u001b[0m\u001b[0;34m.\u001b[0m\u001b[0mload\u001b[0m\u001b[0;34m(\u001b[0m\u001b[0mrawData\u001b[0m\u001b[0;34m)\u001b[0m\u001b[0;34m\u001b[0m\u001b[0m\n\u001b[0m",
        "\u001b[0;31mEOFError\u001b[0m: Ran out of input"
       ]
      }
     ],
     "prompt_number": 105
    },
    {
     "cell_type": "code",
     "collapsed": false,
     "input": [
      "for i in range(len(body)):\n",
      "    rawData.read(1)"
     ],
     "language": "python",
     "metadata": {},
     "outputs": [],
     "prompt_number": 107
    },
    {
     "cell_type": "code",
     "collapsed": false,
     "input": [
      "print(pick[0])"
     ],
     "language": "python",
     "metadata": {},
     "outputs": [
      {
       "output_type": "stream",
       "stream": "stdout",
       "text": [
        "[(' ', 95)]\n"
       ]
      }
     ],
     "prompt_number": 108
    },
    {
     "cell_type": "code",
     "collapsed": false,
     "input": [
      "for p in pickled[:5]:\n",
      "    print(p)"
     ],
     "language": "python",
     "metadata": {},
     "outputs": [
      {
       "output_type": "stream",
       "stream": "stdout",
       "text": [
        "[(' ', 95)]\n",
        "[(' ', 14), ('#', 5), (' ', 70), ('#', 5), (' ', 1)]\n",
        "[(' ', 15), ('#', 4), (' ', 71), ('#', 4), (' ', 1)]\n",
        "[(' ', 15), ('#', 4), (' ', 71), ('#', 4), (' ', 1)]\n",
        "[(' ', 15), ('#', 4), (' ', 71), ('#', 4), (' ', 1)]\n"
       ]
      }
     ],
     "prompt_number": 111
    },
    {
     "cell_type": "code",
     "collapsed": false,
     "input": [],
     "language": "python",
     "metadata": {},
     "outputs": []
    }
   ],
   "metadata": {}
  }
 ]
}