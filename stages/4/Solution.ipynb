{
 "metadata": {
  "name": "",
  "signature": "sha256:673a81420631f6ccf87c4644a422be233de2baea8c8098631896125972dff4d8"
 },
 "nbformat": 3,
 "nbformat_minor": 0,
 "worksheets": [
  {
   "cells": [
    {
     "cell_type": "code",
     "collapsed": false,
     "input": [
      "# We need to traverse through the URLs, finding the new 'nothing' value\n",
      "# at each iteration, until we no longer find a new 'nothing'\n",
      "\n",
      "# Get all the imports out of the way. We'll use a different\n",
      "# method of handling the binary data in PycURL which doesn't\n",
      "# use the operator and functools modules\n",
      "\n",
      "import pycurl\n",
      "import re\n",
      "from io import BytesIO"
     ],
     "language": "python",
     "metadata": {},
     "outputs": [],
     "prompt_number": 1
    },
    {
     "cell_type": "code",
     "collapsed": false,
     "input": [
      "# Traversal method\n",
      "def traverseURLs(start):\n",
      "    '''Traverses through the 'nothing' URLs until no new 'nothing' is found'''\n",
      "    curlObj = pycurl.Curl()\n",
      "    urls = []\n",
      "    base = \"http://www.pythonchallenge.com/pc/def/linkedlist.php?nothing=\"\n",
      "    current = start\n",
      "    \n",
      "    while True:\n",
      "        # Get the page data\n",
      "        rawBytes = BytesIO()\n",
      "        curlObj.setopt(pycurl.URL, current)\n",
      "        curlObj.setopt(pycurl.WRITEDATA, rawBytes)\n",
      "        curlObj.perform()\n",
      "\n",
      "        # Isolate the 'nothing' value\n",
      "        # Note: according to the re module's documentation, we don't\n",
      "        #       need to cache the pattern object for the regex since\n",
      "        #       the module cache's recent patterns itself\n",
      "        message = rawBytes.getvalue().decode(\"UTF-8\")\n",
      "        nothing = re.search(r\"and the next nothing is (\\d+)\", message)\n",
      "\n",
      "        if nothing:\n",
      "            current = base + nothing.group(1)\n",
      "        else:\n",
      "            return current"
     ],
     "language": "python",
     "metadata": {},
     "outputs": [],
     "prompt_number": 2
    },
    {
     "cell_type": "code",
     "collapsed": false,
     "input": [
      "# Start the traversal\n",
      "initURL = \"http://www.pythonchallenge.com/pc/def/linkedlist.php?nothing=12345\"\n",
      "endURL = traverseURLs(initURL)\n",
      "print(endURL)"
     ],
     "language": "python",
     "metadata": {},
     "outputs": [
      {
       "output_type": "stream",
       "stream": "stdout",
       "text": [
        "http://www.pythonchallenge.com/pc/def/linkedlist.php?nothing=16044\n"
       ]
      }
     ],
     "prompt_number": 3
    },
    {
     "cell_type": "code",
     "collapsed": false,
     "input": [
      "# The first traversal tells us to divide the old nothing\n",
      "# by two and repeat\n",
      "secondInitURL = \"http://www.pythonchallenge.com/pc/def/linkedlist.php?nothing=8022\"\n",
      "secondEndURL = traverseURLs(secondInitURL)\n",
      "print(secondEndURL)"
     ],
     "language": "python",
     "metadata": {},
     "outputs": [
      {
       "output_type": "stream",
       "stream": "stdout",
       "text": [
        "http://www.pythonchallenge.com/pc/def/linkedlist.php?nothing=66831\n"
       ]
      }
     ],
     "prompt_number": 4
    },
    {
     "cell_type": "code",
     "collapsed": false,
     "input": [],
     "language": "python",
     "metadata": {},
     "outputs": []
    }
   ],
   "metadata": {}
  }
 ]
}