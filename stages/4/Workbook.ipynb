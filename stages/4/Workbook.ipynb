{
 "metadata": {
  "name": "",
  "signature": "sha256:b2ca7dcce838283d079d02a5312ee92de857b4f77e55195e697329e7e230b52d"
 },
 "nbformat": 3,
 "nbformat_minor": 0,
 "worksheets": [
  {
   "cells": [
    {
     "cell_type": "code",
     "collapsed": false,
     "input": [
      "import pycurl\n",
      "import re\n",
      "import functools\n",
      "import operator\n",
      "from io import BytesIO"
     ],
     "language": "python",
     "metadata": {},
     "outputs": [],
     "prompt_number": 1
    },
    {
     "cell_type": "code",
     "collapsed": false,
     "input": [
      "def traverseURLs(start):\n",
      "    curlObj = pycurl.Curl()\n",
      "    urls = []\n",
      "    base = \"http://www.pythonchallenge.com/pc/def/linkedlist.php?nothing=\"\n",
      "    current = start\n",
      "    \n",
      "    while True:\n",
      "        urls.append(current)\n",
      "\n",
      "        # Get the page data\n",
      "        rawBytes = BytesIO()\n",
      "        curlObj.setopt(pycurl.URL, current)\n",
      "        curlObj.setopt(pycurl.WRITEDATA, rawBytes)\n",
      "        curlObj.perform()\n",
      "\n",
      "        # Isolate the 'nothing' value\n",
      "        # Note: according to the re module's documentation, we don't\n",
      "        #       need to cache the pattern object for the regex since\n",
      "        #       the module cache's recent patterns itself\n",
      "        message = rawBytes.getvalue().decode(\"UTF-8\")\n",
      "        nothing = re.search(r\"and the next nothing is (\\d+)\", message)\n",
      "\n",
      "        if nothing:\n",
      "            current = base + nothing.group(1)\n",
      "        else:\n",
      "            return current\n",
      "\n",
      "print(traverseURLs(\"http://www.pythonchallenge.com/pc/def/linkedlist.php?nothing=8022\"))"
     ],
     "language": "python",
     "metadata": {},
     "outputs": [
      {
       "output_type": "stream",
       "stream": "stdout",
       "text": [
        "http://www.pythonchallenge.com/pc/def/linkedlist.php?nothing=66831\n"
       ]
      }
     ],
     "prompt_number": 3
    },
    {
     "cell_type": "code",
     "collapsed": false,
     "input": [
      "testMsg = \"this is a test 54321\"\n",
      "testMatch = re.search(r\"\\d+\", testMsg)\n",
      "testNothing = testMatch.group()\n",
      "print(testNothing)\n",
      "print(type(testNothing))\n",
      "print(int(testNothing))\n",
      "print(type(int(testNothing)))"
     ],
     "language": "python",
     "metadata": {},
     "outputs": [
      {
       "output_type": "stream",
       "stream": "stdout",
       "text": [
        "54321\n",
        "<class 'str'>\n",
        "54321\n",
        "<class 'int'>\n"
       ]
      }
     ],
     "prompt_number": 30
    },
    {
     "cell_type": "code",
     "collapsed": false,
     "input": [
      "urls[-2]"
     ],
     "language": "python",
     "metadata": {},
     "outputs": [
      {
       "metadata": {},
       "output_type": "pyout",
       "prompt_number": 40,
       "text": [
        "'http://www.pythonchallenge.com/pc/def/linkedlist.php?nothing=82682'"
       ]
      }
     ],
     "prompt_number": 40
    },
    {
     "cell_type": "code",
     "collapsed": false,
     "input": [],
     "language": "python",
     "metadata": {},
     "outputs": []
    }
   ],
   "metadata": {}
  }
 ]
}